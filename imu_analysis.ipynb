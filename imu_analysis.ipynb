{
 "cells": [
  {
   "cell_type": "code",
   "execution_count": 14,
   "metadata": {},
   "outputs": [],
   "source": [
    "import numpy as np\n",
    "import pandas as pd\n",
    "\n",
    "%matplotlib inline\n",
    "import matplotlib.pyplot as plt"
   ]
  },
  {
   "cell_type": "code",
   "execution_count": 24,
   "metadata": {},
   "outputs": [],
   "source": [
    "data_path = \"data/2019_06_17_16_28_47\"\n",
    "\n",
    "tcm_raw = pd.read_csv( data_path+\"tcm.csv\")\n",
    "vnav_raw = pd.read_csv( data_path+\"vnav.csv\")\n",
    "yost_raw = pd.read_csv( data_path+\"yost.csv\")\n",
    "\n",
    "all_raw = [tcm_raw, vnav_raw, yost_raw]\n",
    "\n",
    "## Fixup missing time column in yostlabs for now\n",
    "# yost_raw[\"Time\"] = tcm_raw[\"Time\"]"
   ]
  },
  {
   "cell_type": "code",
   "execution_count": 25,
   "metadata": {},
   "outputs": [],
   "source": [
    "## Normalize all times and set time as index\n",
    "\n",
    "t0 = min( [ f[\"Time\"].min() for f in all_raw] )\n",
    "\n",
    "for f in all_raw:\n",
    "    f[\"Time\"] = f[\"Time\"]-t0\n",
    "    f.set_index(\"Time\", inplace=True)"
   ]
  },
  {
   "cell_type": "markdown",
   "metadata": {},
   "source": [
    "## TODOS:\n",
    "\n",
    "* Vectornav: Figure out column labels, ensure correct number of column labels in csv file\n",
    "* Yost Labs: Data inconsistent\n",
    "* TCM:  Add magnetometer/compass data"
   ]
  },
  {
   "cell_type": "code",
   "execution_count": 26,
   "metadata": {},
   "outputs": [
    {
     "data": {
      "text/html": [
       "<div>\n",
       "<style scoped>\n",
       "    .dataframe tbody tr th:only-of-type {\n",
       "        vertical-align: middle;\n",
       "    }\n",
       "\n",
       "    .dataframe tbody tr th {\n",
       "        vertical-align: top;\n",
       "    }\n",
       "\n",
       "    .dataframe thead th {\n",
       "        text-align: right;\n",
       "    }\n",
       "</style>\n",
       "<table border=\"1\" class=\"dataframe\">\n",
       "  <thead>\n",
       "    <tr style=\"text-align: right;\">\n",
       "      <th></th>\n",
       "      <th>ax</th>\n",
       "      <th>ay</th>\n",
       "      <th>az</th>\n",
       "    </tr>\n",
       "    <tr>\n",
       "      <th>Time</th>\n",
       "      <th></th>\n",
       "      <th></th>\n",
       "      <th></th>\n",
       "    </tr>\n",
       "  </thead>\n",
       "  <tbody>\n",
       "    <tr>\n",
       "      <th>0.000</th>\n",
       "      <td>-0.006785</td>\n",
       "      <td>0.046616</td>\n",
       "      <td>-4.547351</td>\n",
       "    </tr>\n",
       "    <tr>\n",
       "      <th>0.078</th>\n",
       "      <td>-0.006775</td>\n",
       "      <td>0.046614</td>\n",
       "      <td>-4.547331</td>\n",
       "    </tr>\n",
       "    <tr>\n",
       "      <th>0.169</th>\n",
       "      <td>-0.006782</td>\n",
       "      <td>0.046627</td>\n",
       "      <td>-4.547310</td>\n",
       "    </tr>\n",
       "    <tr>\n",
       "      <th>0.284</th>\n",
       "      <td>-0.006716</td>\n",
       "      <td>0.046631</td>\n",
       "      <td>-4.547248</td>\n",
       "    </tr>\n",
       "    <tr>\n",
       "      <th>0.385</th>\n",
       "      <td>-0.006693</td>\n",
       "      <td>0.046642</td>\n",
       "      <td>-4.547225</td>\n",
       "    </tr>\n",
       "  </tbody>\n",
       "</table>\n",
       "</div>"
      ],
      "text/plain": [
       "             ax        ay        az\n",
       "Time                               \n",
       "0.000 -0.006785  0.046616 -4.547351\n",
       "0.078 -0.006775  0.046614 -4.547331\n",
       "0.169 -0.006782  0.046627 -4.547310\n",
       "0.284 -0.006716  0.046631 -4.547248\n",
       "0.385 -0.006693  0.046642 -4.547225"
      ]
     },
     "execution_count": 26,
     "metadata": {},
     "output_type": "execute_result"
    }
   ],
   "source": [
    "tcm_raw.head(5)"
   ]
  },
  {
   "cell_type": "code",
   "execution_count": 27,
   "metadata": {},
   "outputs": [
    {
     "data": {
      "text/html": [
       "<div>\n",
       "<style scoped>\n",
       "    .dataframe tbody tr th:only-of-type {\n",
       "        vertical-align: middle;\n",
       "    }\n",
       "\n",
       "    .dataframe tbody tr th {\n",
       "        vertical-align: top;\n",
       "    }\n",
       "\n",
       "    .dataframe thead th {\n",
       "        text-align: right;\n",
       "    }\n",
       "</style>\n",
       "<table border=\"1\" class=\"dataframe\">\n",
       "  <thead>\n",
       "    <tr style=\"text-align: right;\">\n",
       "      <th></th>\n",
       "      <th>yaw</th>\n",
       "      <th>pitch</th>\n",
       "      <th>roll</th>\n",
       "      <th>magx</th>\n",
       "      <th>magy</th>\n",
       "      <th>magz</th>\n",
       "      <th>accelx</th>\n",
       "      <th>accely</th>\n",
       "      <th>accelz</th>\n",
       "      <th>gyrox</th>\n",
       "      <th>gyroy</th>\n",
       "      <th>gyroz</th>\n",
       "    </tr>\n",
       "    <tr>\n",
       "      <th>Time</th>\n",
       "      <th></th>\n",
       "      <th></th>\n",
       "      <th></th>\n",
       "      <th></th>\n",
       "      <th></th>\n",
       "      <th></th>\n",
       "      <th></th>\n",
       "      <th></th>\n",
       "      <th></th>\n",
       "      <th></th>\n",
       "      <th></th>\n",
       "      <th></th>\n",
       "    </tr>\n",
       "  </thead>\n",
       "  <tbody>\n",
       "    <tr>\n",
       "      <th>0.006</th>\n",
       "      <td>41.988</td>\n",
       "      <td>-4.480</td>\n",
       "      <td>-0.385</td>\n",
       "      <td>0.1563</td>\n",
       "      <td>-0.2142</td>\n",
       "      <td>0.3906</td>\n",
       "      <td>-0.790</td>\n",
       "      <td>0.071</td>\n",
       "      <td>-9.758</td>\n",
       "      <td>0.000978</td>\n",
       "      <td>0.000269</td>\n",
       "      <td>-0.000775</td>\n",
       "    </tr>\n",
       "    <tr>\n",
       "      <th>0.083</th>\n",
       "      <td>41.997</td>\n",
       "      <td>-4.478</td>\n",
       "      <td>-0.386</td>\n",
       "      <td>0.1564</td>\n",
       "      <td>-0.2097</td>\n",
       "      <td>0.3965</td>\n",
       "      <td>-0.749</td>\n",
       "      <td>0.075</td>\n",
       "      <td>-9.798</td>\n",
       "      <td>-0.000849</td>\n",
       "      <td>0.001461</td>\n",
       "      <td>0.000272</td>\n",
       "    </tr>\n",
       "    <tr>\n",
       "      <th>0.186</th>\n",
       "      <td>42.021</td>\n",
       "      <td>-4.484</td>\n",
       "      <td>-0.390</td>\n",
       "      <td>0.1564</td>\n",
       "      <td>-0.2098</td>\n",
       "      <td>0.3953</td>\n",
       "      <td>-0.715</td>\n",
       "      <td>0.063</td>\n",
       "      <td>-9.746</td>\n",
       "      <td>0.000370</td>\n",
       "      <td>-0.000929</td>\n",
       "      <td>0.000404</td>\n",
       "    </tr>\n",
       "    <tr>\n",
       "      <th>0.287</th>\n",
       "      <td>42.015</td>\n",
       "      <td>-4.483</td>\n",
       "      <td>-0.389</td>\n",
       "      <td>0.1554</td>\n",
       "      <td>-0.2098</td>\n",
       "      <td>0.3929</td>\n",
       "      <td>-0.745</td>\n",
       "      <td>0.067</td>\n",
       "      <td>-9.750</td>\n",
       "      <td>0.000771</td>\n",
       "      <td>0.000734</td>\n",
       "      <td>-0.000314</td>\n",
       "    </tr>\n",
       "    <tr>\n",
       "      <th>0.389</th>\n",
       "      <td>42.015</td>\n",
       "      <td>-4.483</td>\n",
       "      <td>-0.391</td>\n",
       "      <td>0.1564</td>\n",
       "      <td>-0.2087</td>\n",
       "      <td>0.3917</td>\n",
       "      <td>-0.780</td>\n",
       "      <td>0.074</td>\n",
       "      <td>-9.763</td>\n",
       "      <td>-0.000375</td>\n",
       "      <td>0.000215</td>\n",
       "      <td>0.000646</td>\n",
       "    </tr>\n",
       "  </tbody>\n",
       "</table>\n",
       "</div>"
      ],
      "text/plain": [
       "          yaw  pitch   roll    magx    magy    magz  accelx  accely  accelz  \\\n",
       "Time                                                                          \n",
       "0.006  41.988 -4.480 -0.385  0.1563 -0.2142  0.3906  -0.790   0.071  -9.758   \n",
       "0.083  41.997 -4.478 -0.386  0.1564 -0.2097  0.3965  -0.749   0.075  -9.798   \n",
       "0.186  42.021 -4.484 -0.390  0.1564 -0.2098  0.3953  -0.715   0.063  -9.746   \n",
       "0.287  42.015 -4.483 -0.389  0.1554 -0.2098  0.3929  -0.745   0.067  -9.750   \n",
       "0.389  42.015 -4.483 -0.391  0.1564 -0.2087  0.3917  -0.780   0.074  -9.763   \n",
       "\n",
       "          gyrox     gyroy     gyroz  \n",
       "Time                                 \n",
       "0.006  0.000978  0.000269 -0.000775  \n",
       "0.083 -0.000849  0.001461  0.000272  \n",
       "0.186  0.000370 -0.000929  0.000404  \n",
       "0.287  0.000771  0.000734 -0.000314  \n",
       "0.389 -0.000375  0.000215  0.000646  "
      ]
     },
     "execution_count": 27,
     "metadata": {},
     "output_type": "execute_result"
    }
   ],
   "source": [
    "vnav_raw.head(5)"
   ]
  },
  {
   "cell_type": "code",
   "execution_count": 28,
   "metadata": {},
   "outputs": [
    {
     "data": {
      "text/html": [
       "<div>\n",
       "<style scoped>\n",
       "    .dataframe tbody tr th:only-of-type {\n",
       "        vertical-align: middle;\n",
       "    }\n",
       "\n",
       "    .dataframe tbody tr th {\n",
       "        vertical-align: top;\n",
       "    }\n",
       "\n",
       "    .dataframe thead th {\n",
       "        text-align: right;\n",
       "    }\n",
       "</style>\n",
       "<table border=\"1\" class=\"dataframe\">\n",
       "  <thead>\n",
       "    <tr style=\"text-align: right;\">\n",
       "      <th></th>\n",
       "      <th>quat 1</th>\n",
       "      <th>quat 2</th>\n",
       "      <th>quat 3</th>\n",
       "      <th>quat 4</th>\n",
       "    </tr>\n",
       "    <tr>\n",
       "      <th>Time</th>\n",
       "      <th></th>\n",
       "      <th></th>\n",
       "      <th></th>\n",
       "      <th></th>\n",
       "    </tr>\n",
       "  </thead>\n",
       "  <tbody>\n",
       "    <tr>\n",
       "      <th>0.098</th>\n",
       "      <td>-0.998230</td>\n",
       "      <td>-0.015672</td>\n",
       "      <td>0.053333</td>\n",
       "      <td>-0.021150</td>\n",
       "    </tr>\n",
       "    <tr>\n",
       "      <th>0.212</th>\n",
       "      <td>-0.998232</td>\n",
       "      <td>-0.015546</td>\n",
       "      <td>0.053320</td>\n",
       "      <td>-0.021149</td>\n",
       "    </tr>\n",
       "    <tr>\n",
       "      <th>0.311</th>\n",
       "      <td>-0.998232</td>\n",
       "      <td>-0.015518</td>\n",
       "      <td>0.053327</td>\n",
       "      <td>-0.021163</td>\n",
       "    </tr>\n",
       "    <tr>\n",
       "      <th>0.420</th>\n",
       "      <td>-0.998234</td>\n",
       "      <td>-0.015542</td>\n",
       "      <td>0.053302</td>\n",
       "      <td>-0.021142</td>\n",
       "    </tr>\n",
       "    <tr>\n",
       "      <th>0.527</th>\n",
       "      <td>-0.998234</td>\n",
       "      <td>-0.015673</td>\n",
       "      <td>0.053275</td>\n",
       "      <td>-0.021115</td>\n",
       "    </tr>\n",
       "  </tbody>\n",
       "</table>\n",
       "</div>"
      ],
      "text/plain": [
       "         quat 1    quat 2    quat 3    quat 4\n",
       "Time                                         \n",
       "0.098 -0.998230 -0.015672  0.053333 -0.021150\n",
       "0.212 -0.998232 -0.015546  0.053320 -0.021149\n",
       "0.311 -0.998232 -0.015518  0.053327 -0.021163\n",
       "0.420 -0.998234 -0.015542  0.053302 -0.021142\n",
       "0.527 -0.998234 -0.015673  0.053275 -0.021115"
      ]
     },
     "execution_count": 28,
     "metadata": {},
     "output_type": "execute_result"
    }
   ],
   "source": [
    "yost_raw.head(5)"
   ]
  },
  {
   "cell_type": "code",
   "execution_count": 29,
   "metadata": {
    "scrolled": true
   },
   "outputs": [
    {
     "data": {
      "text/plain": [
       "<matplotlib.axes._subplots.AxesSubplot at 0x1beb710>"
      ]
     },
     "execution_count": 29,
     "metadata": {},
     "output_type": "execute_result"
    },
    {
     "data": {
      "text/plain": [
       "<Figure size 432x288 with 0 Axes>"
      ]
     },
     "metadata": {},
     "output_type": "display_data"
    },
    {
     "data": {
      "image/png": "[encoded data removed]",
      "text/plain": [
       "<Figure size 432x288 with 1 Axes>"
      ]
     },
     "metadata": {
      "needs_background": "light"
     },
     "output_type": "display_data"
    }
   ],
   "source": [
    "plt.figure()\n",
    "tcm_raw.plot()"
   ]
  },
  {
   "cell_type": "code",
   "execution_count": 30,
   "metadata": {},
   "outputs": [
    {
     "data": {
      "text/plain": [
       "<matplotlib.axes._subplots.AxesSubplot at 0x1c255d0>"
      ]
     },
     "execution_count": 30,
     "metadata": {},
     "output_type": "execute_result"
    },
    {
     "data": {
      "image/png": "[encoded data removed]",
      "text/plain": [
       "<Figure size 432x288 with 1 Axes>"
      ]
     },
     "metadata": {
      "needs_background": "light"
     },
     "output_type": "display_data"
    }
   ],
   "source": [
    "vnav_raw.plot()"
   ]
  },
  {
   "cell_type": "code",
   "execution_count": 31,
   "metadata": {},
   "outputs": [
    {
     "data": {
      "text/plain": [
       "<matplotlib.axes._subplots.AxesSubplot at 0x1c1b2f0>"
      ]
     },
     "execution_count": 31,
     "metadata": {},
     "output_type": "execute_result"
    },
    {
     "data": {
      "image/png": "[encoded data removed]",
      "text/plain": [
       "<Figure size 432x288 with 1 Axes>"
      ]
     },
     "metadata": {
      "needs_background": "light"
     },
     "output_type": "display_data"
    }
   ],
   "source": [
    "yost_raw.plot()"
   ]
  },
  {
   "cell_type": "code",
   "execution_count": null,
   "metadata": {},
   "outputs": [],
   "source": []
  }
 ],
 "metadata": {
  "kernelspec": {
   "display_name": "Python 3",
   "language": "python",
   "name": "python3"
  },
  "language_info": {
   "codemirror_mode": {
    "name": "ipython",
    "version": 3
   },
   "file_extension": ".py",
   "mimetype": "text/x-python",
   "name": "python",
   "nbconvert_exporter": "python",
   "pygments_lexer": "ipython3",
   "version": "3.7.1"
  }
 },
 "nbformat": 4,
 "nbformat_minor": 2
}
